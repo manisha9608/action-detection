{
  "cells": [
    {
      "cell_type": "markdown",
      "metadata": {
        "id": "view-in-github",
        "colab_type": "text"
      },
      "source": [
        "<a href=\"https://colab.research.google.com/github/manisha9608/action-detection/blob/main/Generate_output_pickle_files.ipynb\" target=\"_parent\"><img src=\"https://colab.research.google.com/assets/colab-badge.svg\" alt=\"Open In Colab\"/></a>"
      ]
    },
    {
      "cell_type": "code",
      "execution_count": null,
      "metadata": {
        "id": "UPNylqHSF8UI"
      },
      "outputs": [],
      "source": [
        "import sys"
      ]
    },
    {
      "cell_type": "code",
      "execution_count": null,
      "metadata": {
        "id": "LaRqK_plF8UM"
      },
      "outputs": [],
      "source": [
        "import numpy as np\n",
        "import os\n",
        "from scipy.io import loadmat, whosmat\n",
        "import pickle"
      ]
    },
    {
      "cell_type": "code",
      "source": [
        "!pwd"
      ],
      "metadata": {
        "colab": {
          "base_uri": "https://localhost:8080/"
        },
        "id": "Qxk_wa0gHfqJ",
        "outputId": "97ed0b1c-aed9-4152-b3d3-d9a6f04e91b8"
      },
      "execution_count": null,
      "outputs": [
        {
          "output_type": "stream",
          "name": "stdout",
          "text": [
            "/content\n"
          ]
        }
      ]
    },
    {
      "cell_type": "code",
      "source": [
        "from google.colab import drive\n",
        "drive.mount('/content/drive', force_remount=True)"
      ],
      "metadata": {
        "colab": {
          "base_uri": "https://localhost:8080/"
        },
        "id": "IecUihkMHljd",
        "outputId": "a2951033-8910-480f-82f5-620bcb56b90f"
      },
      "execution_count": null,
      "outputs": [
        {
          "output_type": "stream",
          "name": "stdout",
          "text": [
            "Mounted at /content/drive\n"
          ]
        }
      ]
    },
    {
      "cell_type": "code",
      "source": [
        "p = '/content/drive/MyDrive/Colab Notebooks'"
      ],
      "metadata": {
        "id": "wgng5SkkJFMh"
      },
      "execution_count": null,
      "outputs": []
    },
    {
      "cell_type": "code",
      "execution_count": null,
      "metadata": {
        "id": "T798-300F8UM"
      },
      "outputs": [],
      "source": [
        "labels_path = p+'/Labels_MERL_Shopping_Dataset/'\n",
        "results_path = p+'/Results/DetectedActions/'\n",
        "videos_path = p+'/Videos_MERL_Shopping_Dataset_Final/processed/'"
      ]
    },
    {
      "cell_type": "code",
      "execution_count": null,
      "metadata": {
        "id": "0EPzNIdTF8UN"
      },
      "outputs": [],
      "source": [
        "x_train_path = videos_path+'train/'\n",
        "y_train_path = labels_path+'train/'"
      ]
    },
    {
      "cell_type": "code",
      "execution_count": null,
      "metadata": {
        "id": "CGJvsCyYF8UN"
      },
      "outputs": [],
      "source": [
        "x_test_path = videos_path + 'test/'\n",
        "y_test_path = labels_path + 'test/'"
      ]
    },
    {
      "cell_type": "code",
      "execution_count": null,
      "metadata": {
        "id": "YyhADdLmF8UO"
      },
      "outputs": [],
      "source": [
        "x_val_path = videos_path + '/val/'\n",
        "y_val_path = labels_path + '/val/'"
      ]
    },
    {
      "cell_type": "code",
      "execution_count": null,
      "metadata": {
        "id": "ARhFPZP3F8UP"
      },
      "outputs": [],
      "source": [
        "y_train_list = sorted(os.listdir(y_train_path))\n",
        "y_test_list = sorted(os.listdir(y_test_path))\n",
        "y_val_list = sorted(os.listdir(y_val_path))"
      ]
    },
    {
      "cell_type": "code",
      "execution_count": null,
      "metadata": {
        "tags": [],
        "id": "bfGHFvkPF8UP"
      },
      "outputs": [],
      "source": [
        "y_train_dict = {}\n",
        "d = []\n",
        "d1 = []\n",
        "c = 0\n",
        "x=0\n",
        "for file in y_train_list:\n",
        "  # if c<1:\n",
        "  # c+=1\n",
        "  key = '_'.join(file.split('_')[:2])\n",
        "  print(key)\n",
        "  # tlabs = loadmat(y_train_path + file, variable_names='tlabs')['tlabs']\n",
        "  tlabs = loadmat(y_train_path + file)['tlabs']\n",
        "  d = tlabs\n",
        "  # print(tlabs.shape)\n",
        "  try:\n",
        "    len_mat = len(os.listdir(x_train_path + key + '_crop/')) # video frames\n",
        "  except FileNotFoundError:\n",
        "    print('File not found', key)\n",
        "  print(len_mat,  tlabs.shape)\n",
        "  value = [5]* len_mat\n",
        "  # d = value\n",
        "  for i in range(5): # no. of actions\n",
        "      for j in tlabs[i][0]: # for each action\n",
        "          # print(j)\n",
        "          for k in range(j[0]-1, j[1]):\n",
        "              try:\n",
        "                  value[k] = i\n",
        "              except:\n",
        "                  # print(k)\n",
        "                  x=1\n",
        "                  \n",
        "  step =0\n",
        "  value2=[]\n",
        "\n",
        "  for i in range(len(value)):\n",
        "\n",
        "      if step != 0:\n",
        "          if step == 1:\n",
        "              step += 1\n",
        "          else: \n",
        "              step = 0\n",
        "              continue\n",
        "      else: \n",
        "          value2.append(i)\n",
        "          step+=1\n",
        "        \n",
        "  # d1 = value2\n",
        "  y_train_dict [key] = value"
      ]
    },
    {
      "cell_type": "code",
      "source": [
        "len(d1)"
      ],
      "metadata": {
        "id": "a6TRa5ElpmrD"
      },
      "execution_count": null,
      "outputs": []
    },
    {
      "cell_type": "code",
      "execution_count": null,
      "metadata": {
        "collapsed": true,
        "jupyter": {
          "outputs_hidden": true
        },
        "tags": [],
        "id": "THLOY-B9F8UR"
      },
      "outputs": [],
      "source": [
        "whosmat(y_train_path + file)"
      ]
    },
    {
      "cell_type": "code",
      "source": [
        "from google.colab import drive\n",
        "drive.mount('/content/drive', force_remount=True)"
      ],
      "metadata": {
        "id": "EwFxonR6DGnV",
        "colab": {
          "base_uri": "https://localhost:8080/"
        },
        "outputId": "94f88538-ea5f-4bb3-ae49-997c68f85ed7"
      },
      "execution_count": null,
      "outputs": [
        {
          "output_type": "stream",
          "name": "stdout",
          "text": [
            "Mounted at /content/drive\n"
          ]
        }
      ]
    },
    {
      "cell_type": "code",
      "source": [
        "from google.colab import drive\n",
        "drive.mount('/content/drive')"
      ],
      "metadata": {
        "id": "egzAOoS7XZS-"
      },
      "execution_count": null,
      "outputs": []
    },
    {
      "cell_type": "code",
      "execution_count": null,
      "metadata": {
        "id": "uhW5wrwcF8US",
        "colab": {
          "base_uri": "https://localhost:8080/"
        },
        "outputId": "ef902e20-e2c9-4060-ec99-c81a8be0f381"
      },
      "outputs": [
        {
          "output_type": "stream",
          "name": "stdout",
          "text": [
            "60\n"
          ]
        }
      ],
      "source": [
        "print(len(y_train_dict))\n",
        "file_name = p+'/train_y_final.pkl'\n",
        "with open(file_name, 'wb') as pickle_file:\n",
        "    pickle.dump(y_train_dict, pickle_file)"
      ]
    },
    {
      "cell_type": "code",
      "source": [
        "print(len(y_train_dict['1_1']))"
      ],
      "metadata": {
        "id": "TgKlS9PgweHg"
      },
      "execution_count": null,
      "outputs": []
    },
    {
      "cell_type": "code",
      "execution_count": null,
      "metadata": {
        "id": "RDOjLq0MF8UT"
      },
      "outputs": [],
      "source": [
        "y_test_dict = {}\n",
        "x=0\n",
        "for file in y_test_list:\n",
        "    key = '_'.join(file.split('_')[:2])\n",
        "    tlabs = loadmat(y_test_path + file)['tlabs']\n",
        "    try:\n",
        "      len_mat = len(os.listdir(x_test_path + key + '_crop/'))\n",
        "    except FileNotFoundError:\n",
        "      print('File not found', key)\n",
        "    value = [5]* len_mat\n",
        "    for i in range(5):\n",
        "        for j in tlabs[i][0]:\n",
        "            for k in range(j[0]-1, j[1]):\n",
        "                try:\n",
        "                    value[k] = i\n",
        "                except:\n",
        "                    x=1\n",
        "    step =0\n",
        "    value2=[]\n",
        "    \n",
        "    for i in range(len(value)):\n",
        "\n",
        "        if step != 0:\n",
        "            if step == 1:\n",
        "                step += 1\n",
        "            else: \n",
        "                step = 0\n",
        "                continue\n",
        "        else: \n",
        "            value2.append(i)\n",
        "            step+=1\n",
        "            \n",
        "    y_test_dict [key] = value"
      ]
    },
    {
      "cell_type": "code",
      "execution_count": null,
      "metadata": {
        "id": "XdR8BqfbF8UT"
      },
      "outputs": [],
      "source": [
        "file_name = p+'/test_y_final.pkl'\n",
        "with open(file_name, 'wb') as pickle_file:\n",
        "    pickle.dump(y_test_dict, pickle_file)"
      ]
    },
    {
      "cell_type": "code",
      "execution_count": null,
      "metadata": {
        "id": "dVVYkjU3F8UT"
      },
      "outputs": [],
      "source": [
        "y_val_dict = {}\n",
        "for file in y_val_list:\n",
        "    key = '_'.join(file.split('_')[:2])\n",
        "    tlabs = loadmat(y_val_path + file)['tlabs']\n",
        "    len_mat = len(os.listdir(x_val_path + key + '_crop/'))\n",
        "    value = [5]* len_mat\n",
        "    for i in range(5):\n",
        "        for j in tlabs[i][0]:\n",
        "            for k in range(j[0]-1, j[1]):\n",
        "                try:\n",
        "                    value[k] = i\n",
        "                except:\n",
        "                    print(k)\n",
        "    step =0\n",
        "    value2=[]\n",
        "    \n",
        "    for i in range(len(value)):\n",
        "\n",
        "        if step != 0:\n",
        "            if step == 1:\n",
        "                step += 1\n",
        "            else: \n",
        "                step = 0\n",
        "                continue\n",
        "        else: \n",
        "            value2.append(i)\n",
        "            step+=1\n",
        "            \n",
        "    y_test_dict [key] = value"
      ]
    },
    {
      "cell_type": "code",
      "execution_count": null,
      "metadata": {
        "id": "oOKrK4OYF8UU"
      },
      "outputs": [],
      "source": [
        "file_name = p+'/val_y.pkl'\n",
        "with open(file_name, 'wb') as pickle_file:\n",
        "    pickle.dump(y_test_dict, pickle_file)"
      ]
    },
    {
      "cell_type": "code",
      "execution_count": null,
      "metadata": {
        "id": "gc3sqUuEF8UU"
      },
      "outputs": [],
      "source": [
        ""
      ]
    }
  ],
  "metadata": {
    "kernelspec": {
      "display_name": "Python 3",
      "language": "python",
      "name": "python3"
    },
    "language_info": {
      "codemirror_mode": {
        "name": "ipython",
        "version": 3
      },
      "file_extension": ".py",
      "mimetype": "text/x-python",
      "name": "python",
      "nbconvert_exporter": "python",
      "pygments_lexer": "ipython3",
      "version": "3.8.5"
    },
    "colab": {
      "name": "Generate_output_pickle_files.ipynb",
      "provenance": [],
      "machine_shape": "hm",
      "collapsed_sections": [],
      "include_colab_link": true
    }
  },
  "nbformat": 4,
  "nbformat_minor": 0
}