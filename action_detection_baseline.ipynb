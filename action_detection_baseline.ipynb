{
  "nbformat": 4,
  "nbformat_minor": 0,
  "metadata": {
    "colab": {
      "name": "action_detection_baseline.ipynb",
      "provenance": [],
      "collapsed_sections": [],
      "authorship_tag": "ABX9TyNG8TPIhwOutfOx8LZops9H",
      "include_colab_link": true
    },
    "kernelspec": {
      "name": "python3",
      "display_name": "Python 3"
    },
    "language_info": {
      "name": "python"
    }
  },
  "cells": [
    {
      "cell_type": "markdown",
      "metadata": {
        "id": "view-in-github",
        "colab_type": "text"
      },
      "source": [
        "<a href=\"https://colab.research.google.com/github/manisha9608/action-detection/blob/main/action_detection_baseline.ipynb\" target=\"_parent\"><img src=\"https://colab.research.google.com/assets/colab-badge.svg\" alt=\"Open In Colab\"/></a>"
      ]
    },
    {
      "cell_type": "code",
      "execution_count": null,
      "metadata": {
        "colab": {
          "base_uri": "https://localhost:8080/"
        },
        "id": "5OLBjplYr_qY",
        "outputId": "1a71de92-53f5-4acb-9209-2aa7baa0b07d"
      },
      "outputs": [
        {
          "output_type": "stream",
          "name": "stdout",
          "text": [
            "Mounted at /content/drive\n"
          ]
        }
      ],
      "source": [
        "from google.colab import drive\n",
        "drive.mount('/content/drive')"
      ]
    },
    {
      "cell_type": "code",
      "source": [
        "import sys\n",
        "sys.path.append(\"drive/MyDrive/Colab\\ Notebooks/\")"
      ],
      "metadata": {
        "id": "RHrQXnmhsC5O"
      },
      "execution_count": null,
      "outputs": []
    },
    {
      "cell_type": "code",
      "source": [
        "import pickle\n",
        "import os"
      ],
      "metadata": {
        "id": "9wfw0_sTwZ9N"
      },
      "execution_count": null,
      "outputs": []
    },
    {
      "cell_type": "code",
      "source": [
        "p = '/content/drive/MyDrive/Colab Notebooks'"
      ],
      "metadata": {
        "id": "10lQLv7qsXL7"
      },
      "execution_count": null,
      "outputs": []
    },
    {
      "cell_type": "code",
      "source": [
        "\n",
        "y_train_path = p+'/train_y_final.pkl'"
      ],
      "metadata": {
        "id": "6BNkXdkAsaPv"
      },
      "execution_count": null,
      "outputs": []
    },
    {
      "cell_type": "code",
      "source": [
        "\n",
        "y_test_path = p+'/test_y_final.pkl'"
      ],
      "metadata": {
        "id": "-vsNTBYruZrS"
      },
      "execution_count": null,
      "outputs": []
    },
    {
      "cell_type": "code",
      "source": [
        "# ZeroR as baseline model\n",
        "# training\n",
        "def get_majority():\n",
        "  label_output = [0,0,0,0,0,0] # 6 actions\n",
        "  path = y_train_path\n",
        "  # print('c1', path)\n",
        "  with open(path, 'rb') as train_data:\n",
        "    y_dict = pickle.load(train_data)\n",
        "    # print('c1')\n",
        "  for k in y_dict:\n",
        "    print(k)\n",
        "    val = y_dict[k]\n",
        "    for v in val:\n",
        "    # print(val)\n",
        "     label_output[v] += 1\n",
        "  print(label_output)\n",
        "\n",
        "  # get action for which the count is maximum\n",
        "  c = -1\n",
        "  idx = -1\n",
        "  for i in range(len(label_output)):\n",
        "    if label_output[i] > c:\n",
        "      c = label_output[i]\n",
        "      idx = i\n",
        "  return idx"
      ],
      "metadata": {
        "id": "mfbjZW2wue-O"
      },
      "execution_count": null,
      "outputs": []
    },
    {
      "cell_type": "code",
      "source": [
        "action = get_majority()\n",
        "print(action)"
      ],
      "metadata": {
        "colab": {
          "base_uri": "https://localhost:8080/"
        },
        "id": "giQS7eUGwc4n",
        "outputId": "e5127a4e-76f3-4390-e624-3deb979c9479"
      },
      "execution_count": null,
      "outputs": [
        {
          "output_type": "stream",
          "name": "stdout",
          "text": [
            "10_1\n",
            "10_2\n",
            "10_3\n",
            "11_1\n",
            "11_2\n",
            "11_3\n",
            "12_1\n",
            "12_2\n",
            "12_3\n",
            "13_1\n",
            "13_2\n",
            "13_3\n",
            "14_1\n",
            "14_2\n",
            "14_3\n",
            "15_1\n",
            "15_2\n",
            "15_3\n",
            "16_1\n",
            "16_2\n",
            "16_3\n",
            "17_1\n",
            "17_2\n",
            "17_3\n",
            "18_1\n",
            "18_2\n",
            "18_3\n",
            "19_1\n",
            "19_2\n",
            "19_3\n",
            "1_1\n",
            "1_2\n",
            "1_3\n",
            "20_1\n",
            "20_2\n",
            "20_3\n",
            "2_1\n",
            "2_2\n",
            "2_3\n",
            "3_1\n",
            "3_2\n",
            "3_3\n",
            "4_1\n",
            "4_2\n",
            "4_3\n",
            "5_1\n",
            "5_2\n",
            "5_3\n",
            "6_1\n",
            "6_2\n",
            "6_3\n",
            "7_1\n",
            "7_2\n",
            "7_3\n",
            "8_1\n",
            "8_2\n",
            "8_3\n",
            "9_1\n",
            "9_2\n",
            "9_3\n",
            "[32897, 33164, 18382, 41531, 53474, 59749]\n",
            "5\n"
          ]
        }
      ]
    },
    {
      "cell_type": "code",
      "source": [
        "# prediction\n",
        "label_test = [0,0,0,0,0,0] # 6 actions\n",
        "label_pred = [0,0,0,0,0,0] # 6 actions\n",
        "path = y_test_path\n",
        "# print('c1', path)\n",
        "with open(path, 'rb') as test_data:\n",
        "  test_dict = pickle.load(test_data)\n",
        "  # print('c1')\n",
        "for k in test_dict:\n",
        "  print(k)\n",
        "  val = test_dict[k]\n",
        "  for v in val:\n",
        "    label_test[v] += 1\n",
        "    label_pred[action] += 1\n",
        "print(label_test)\n",
        "print(label_pred)"
      ],
      "metadata": {
        "colab": {
          "base_uri": "https://localhost:8080/"
        },
        "id": "yYsKIlEXwepy",
        "outputId": "f618fbe3-772a-44ba-eaab-6ab59c1e1671"
      },
      "execution_count": null,
      "outputs": [
        {
          "output_type": "stream",
          "name": "stdout",
          "text": [
            "27_1\n",
            "27_2\n",
            "27_3\n",
            "28_1\n",
            "28_2\n",
            "28_3\n",
            "29_1\n",
            "29_2\n",
            "29_3\n",
            "30_1\n",
            "30_2\n",
            "30_3\n",
            "31_1\n",
            "31_2\n",
            "31_3\n",
            "32_1\n",
            "32_2\n",
            "32_3\n",
            "33_1\n",
            "34_1\n",
            "35_1\n",
            "36_1\n",
            "37_1\n",
            "38_1\n",
            "39_1\n",
            "40_1\n",
            "41_1\n",
            "41_2\n",
            "[13841, 14111, 10685, 17628, 23867, 24321]\n",
            "[0, 0, 0, 0, 0, 104453]\n"
          ]
        }
      ]
    },
    {
      "cell_type": "code",
      "source": [
        "correct = label_test[action]\n",
        "total = label_pred[action]\n",
        "acc = correct/total\n",
        "print(f'Accuracy: {acc}')"
      ],
      "metadata": {
        "colab": {
          "base_uri": "https://localhost:8080/"
        },
        "id": "Uw3GWmJ4BONh",
        "outputId": "2f71ad8f-151e-483d-846f-fca52aa9a04a"
      },
      "execution_count": null,
      "outputs": [
        {
          "output_type": "stream",
          "name": "stdout",
          "text": [
            "Accuracy: 0.23284156510583706\n"
          ]
        }
      ]
    },
    {
      "cell_type": "code",
      "source": [
        ""
      ],
      "metadata": {
        "id": "9gLbQEC0BaSD"
      },
      "execution_count": null,
      "outputs": []
    }
  ]
}