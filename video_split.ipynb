{
  "cells": [
    {
      "cell_type": "markdown",
      "metadata": {
        "id": "view-in-github",
        "colab_type": "text"
      },
      "source": [
        "<a href=\"https://colab.research.google.com/github/manisha9608/action-detection/blob/main/video_split.ipynb\" target=\"_parent\"><img src=\"https://colab.research.google.com/assets/colab-badge.svg\" alt=\"Open In Colab\"/></a>"
      ]
    },
    {
      "cell_type": "code",
      "execution_count": null,
      "metadata": {
        "colab": {
          "base_uri": "https://localhost:8080/"
        },
        "id": "uNPQtZ6-EGUg",
        "outputId": "599f73d7-cca1-4a95-f175-298b3eefd238"
      },
      "outputs": [
        {
          "output_type": "stream",
          "name": "stdout",
          "text": [
            "Drive already mounted at /content/drive; to attempt to forcibly remount, call drive.mount(\"/content/drive\", force_remount=True).\n"
          ]
        }
      ],
      "source": [
        "from google.colab import drive\n",
        "drive.mount('/content/drive')"
      ]
    },
    {
      "cell_type": "code",
      "execution_count": null,
      "metadata": {
        "id": "MCKL5-KdEK-o"
      },
      "outputs": [],
      "source": [
        "import sys\n",
        "sys.path.append(\"drive/MyDrive/Colab\\ Notebooks/\")"
      ]
    },
    {
      "cell_type": "code",
      "execution_count": null,
      "metadata": {
        "id": "PnXummEyEo72"
      },
      "outputs": [],
      "source": [
        "import pickle\n",
        "import os\n",
        "import cv2"
      ]
    },
    {
      "cell_type": "code",
      "execution_count": null,
      "metadata": {
        "id": "a9Ug9nFjEpVo"
      },
      "outputs": [],
      "source": [
        "p = '/content/drive/MyDrive/Colab Notebooks/Videos_MERL_Shopping_Dataset_Final'\n",
        "videos_input_path = p+'/raw'\n",
        "videos_processed_path = p+'/processed'"
      ]
    },
    {
      "cell_type": "code",
      "execution_count": null,
      "metadata": {
        "id": "wyx7d4h-HkJu"
      },
      "outputs": [],
      "source": [
        "train_input_path = videos_input_path+'/train'\n",
        "train_processed_path = videos_processed_path+'/train'"
      ]
    },
    {
      "cell_type": "code",
      "execution_count": null,
      "metadata": {
        "id": "naxn7Y83kt8e"
      },
      "outputs": [],
      "source": [
        "def create_vid_dir(name, path):\n",
        "  os.mkdir(path+'/'+name)"
      ]
    },
    {
      "cell_type": "code",
      "execution_count": null,
      "metadata": {
        "id": "HMYzyo8pkFa7",
        "colab": {
          "base_uri": "https://localhost:8080/"
        },
        "outputId": "6ac9a3aa-4676-4af6-b1e8-fedb2e39d502"
      },
      "outputs": [
        {
          "output_type": "stream",
          "name": "stdout",
          "text": [
            "not done 4_3_crop.mp4\n",
            "not done 1_1_crop.mp4\n",
            "not done 9_1_crop.mp4\n",
            "not done 7_1_crop.mp4\n",
            "not done 16_2_crop.mp4\n",
            "not done 5_1_crop.mp4\n",
            "not done 2_2_crop.mp4\n",
            "not done 11_1_crop.mp4\n",
            "not done 12_3_crop.mp4\n",
            "not done 1_3_crop.mp4\n",
            "not done 8_1_crop.mp4\n",
            "not done 9_3_crop.mp4\n",
            "not done 12_2_crop.mp4\n",
            "not done 5_3_crop.mp4\n",
            "not done 7_2_crop.mp4\n",
            "not done 8_3_crop.mp4\n",
            "not done 15_1_crop.mp4\n",
            "not done 20_3_crop.mp4\n",
            "not done 16_3_crop.mp4\n",
            "not done 17_2_crop.mp4\n",
            "not done 20_1_crop.mp4\n",
            "not done 19_1_crop.mp4\n",
            "not done 3_1_crop.mp4\n",
            "not done 18_2_crop.mp4\n",
            "not done 8_2_crop.mp4\n",
            "not done 12_1_crop.mp4\n",
            "not done 11_3_crop.mp4\n",
            "not done 13_3_crop.mp4\n",
            "not done 4_2_crop.mp4\n",
            "not done 2_1_crop.mp4\n",
            "not done 3_3_crop.mp4\n",
            "not done 6_3_crop.mp4\n",
            "not done 2_3_crop.mp4\n",
            "not done 3_2_crop.mp4\n",
            "not done 11_2_crop.mp4\n",
            "not done 14_3_crop.mp4\n",
            "not done 15_2_crop.mp4\n",
            "not done 6_1_crop.mp4\n",
            "not done 17_1_crop.mp4\n",
            "not done 15_3_crop.mp4\n",
            "not done 18_1_crop.mp4\n",
            "not done 20_2_crop.mp4\n",
            "not done 10_3_crop.mp4\n",
            "not done 19_3_crop.mp4\n",
            "not done 9_2_crop.mp4\n",
            "not done 7_3_crop.mp4\n",
            "not done 10_1_crop.mp4\n",
            "not done 16_1_crop.mp4\n",
            "not done 13_1_crop.mp4\n",
            "not done 14_2_crop.mp4\n",
            "not done 19_2_crop.mp4\n",
            "not done 4_1_crop.mp4\n",
            "not done 13_2_crop.mp4\n",
            "not done 17_3_crop.mp4\n",
            "not done 18_3_crop.mp4\n",
            "not done 5_2_crop.mp4\n",
            "not done 10_2_crop.mp4\n",
            "not done 1_2_crop.mp4\n",
            "not done 6_2_crop.mp4\n",
            "not done 14_1_crop.mp4\n"
          ]
        }
      ],
      "source": [
        "for filename in os.listdir(train_input_path):\n",
        "  # print(filename)\n",
        "  # extract name of file\n",
        "  fldr = filename.split('.')[0]\n",
        "  # print(fldr)\n",
        "  # create folder to store frames of the video\n",
        "  try:\n",
        "    out_path = train_processed_path+'/'+fldr\n",
        "    os.mkdir(out_path)\n",
        "    file_path = train_input_path+'/'+filename\n",
        "    vidcap = cv2.VideoCapture(file_path)\n",
        "    success,image = vidcap.read()\n",
        "    print('reading: ', success, file_path)\n",
        "    count = 0\n",
        "    while success:\n",
        "      cv2.imwrite(out_path+\"/frame%d.jpg\" % count, image)     # save frame as JPEG file      \n",
        "      success,image = vidcap.read()\n",
        "      print('Read a new frame: ', success)\n",
        "      count += 1\n",
        "  except:\n",
        "    print('not done', filename)"
      ]
    },
    {
      "cell_type": "code",
      "execution_count": null,
      "metadata": {
        "colab": {
          "base_uri": "https://localhost:8080/"
        },
        "id": "hJd1slFzoME8",
        "outputId": "e9d3548f-faf4-47db-e72f-dc6860c196c6"
      },
      "outputs": [
        {
          "output_type": "stream",
          "name": "stdout",
          "text": [
            "/content/drive/MyDrive/Colab Notebooks/Videos_MERL_Shopping_Dataset_Final/processed/test/41_2_crop\n",
            "not done 41_2_crop.mp4\n",
            "/content/drive/MyDrive/Colab Notebooks/Videos_MERL_Shopping_Dataset_Final/processed/test/30_2_crop\n",
            "not done 30_2_crop.mp4\n",
            "/content/drive/MyDrive/Colab Notebooks/Videos_MERL_Shopping_Dataset_Final/processed/test/37_1_crop\n",
            "not done 37_1_crop.mp4\n",
            "/content/drive/MyDrive/Colab Notebooks/Videos_MERL_Shopping_Dataset_Final/processed/test/29_3_crop\n",
            "not done 29_3_crop.mp4\n",
            "/content/drive/MyDrive/Colab Notebooks/Videos_MERL_Shopping_Dataset_Final/processed/test/29_2_crop\n",
            "not done 29_2_crop.mp4\n",
            "/content/drive/MyDrive/Colab Notebooks/Videos_MERL_Shopping_Dataset_Final/processed/test/30_3_crop\n",
            "not done 30_3_crop.mp4\n",
            "/content/drive/MyDrive/Colab Notebooks/Videos_MERL_Shopping_Dataset_Final/processed/test/40_1_crop\n",
            "not done 40_1_crop.mp4\n",
            "/content/drive/MyDrive/Colab Notebooks/Videos_MERL_Shopping_Dataset_Final/processed/test/28_2_crop\n",
            "not done 28_2_crop.mp4\n",
            "/content/drive/MyDrive/Colab Notebooks/Videos_MERL_Shopping_Dataset_Final/processed/test/38_1_crop\n",
            "not done 38_1_crop.mp4\n",
            "/content/drive/MyDrive/Colab Notebooks/Videos_MERL_Shopping_Dataset_Final/processed/test/34_1_crop\n",
            "not done 34_1_crop.mp4\n",
            "/content/drive/MyDrive/Colab Notebooks/Videos_MERL_Shopping_Dataset_Final/processed/test/27_1_crop\n",
            "not done 27_1_crop.mp4\n",
            "/content/drive/MyDrive/Colab Notebooks/Videos_MERL_Shopping_Dataset_Final/processed/test/27_2_crop\n",
            "not done 27_2_crop.mp4\n",
            "/content/drive/MyDrive/Colab Notebooks/Videos_MERL_Shopping_Dataset_Final/processed/test/41_1_crop\n",
            "not done 41_1_crop.mp4\n",
            "/content/drive/MyDrive/Colab Notebooks/Videos_MERL_Shopping_Dataset_Final/processed/test/28_3_crop\n",
            "not done 28_3_crop.mp4\n",
            "/content/drive/MyDrive/Colab Notebooks/Videos_MERL_Shopping_Dataset_Final/processed/test/36_1_crop\n",
            "not done 36_1_crop.mp4\n",
            "/content/drive/MyDrive/Colab Notebooks/Videos_MERL_Shopping_Dataset_Final/processed/test/31_3_crop\n",
            "not done 31_3_crop.mp4\n",
            "/content/drive/MyDrive/Colab Notebooks/Videos_MERL_Shopping_Dataset_Final/processed/test/32_2_crop\n",
            "reading:  True /content/drive/MyDrive/Colab Notebooks/Videos_MERL_Shopping_Dataset_Final/raw/test/32_2_crop.mp4\n",
            "/content/drive/MyDrive/Colab Notebooks/Videos_MERL_Shopping_Dataset_Final/processed/test/32_1_crop\n",
            "reading:  True /content/drive/MyDrive/Colab Notebooks/Videos_MERL_Shopping_Dataset_Final/raw/test/32_1_crop.mp4\n",
            "/content/drive/MyDrive/Colab Notebooks/Videos_MERL_Shopping_Dataset_Final/processed/test/27_3_crop\n",
            "reading:  True /content/drive/MyDrive/Colab Notebooks/Videos_MERL_Shopping_Dataset_Final/raw/test/27_3_crop.mp4\n",
            "/content/drive/MyDrive/Colab Notebooks/Videos_MERL_Shopping_Dataset_Final/processed/test/29_1_crop\n",
            "reading:  True /content/drive/MyDrive/Colab Notebooks/Videos_MERL_Shopping_Dataset_Final/raw/test/29_1_crop.mp4\n",
            "/content/drive/MyDrive/Colab Notebooks/Videos_MERL_Shopping_Dataset_Final/processed/test/31_1_crop\n",
            "reading:  True /content/drive/MyDrive/Colab Notebooks/Videos_MERL_Shopping_Dataset_Final/raw/test/31_1_crop.mp4\n",
            "/content/drive/MyDrive/Colab Notebooks/Videos_MERL_Shopping_Dataset_Final/processed/test/32_3_crop\n",
            "reading:  True /content/drive/MyDrive/Colab Notebooks/Videos_MERL_Shopping_Dataset_Final/raw/test/32_3_crop.mp4\n",
            "/content/drive/MyDrive/Colab Notebooks/Videos_MERL_Shopping_Dataset_Final/processed/test/28_1_crop\n",
            "reading:  True /content/drive/MyDrive/Colab Notebooks/Videos_MERL_Shopping_Dataset_Final/raw/test/28_1_crop.mp4\n",
            "/content/drive/MyDrive/Colab Notebooks/Videos_MERL_Shopping_Dataset_Final/processed/test/35_1_crop\n",
            "reading:  True /content/drive/MyDrive/Colab Notebooks/Videos_MERL_Shopping_Dataset_Final/raw/test/35_1_crop.mp4\n",
            "/content/drive/MyDrive/Colab Notebooks/Videos_MERL_Shopping_Dataset_Final/processed/test/33_1_crop\n",
            "reading:  True /content/drive/MyDrive/Colab Notebooks/Videos_MERL_Shopping_Dataset_Final/raw/test/33_1_crop.mp4\n",
            "/content/drive/MyDrive/Colab Notebooks/Videos_MERL_Shopping_Dataset_Final/processed/test/30_1_crop\n",
            "reading:  True /content/drive/MyDrive/Colab Notebooks/Videos_MERL_Shopping_Dataset_Final/raw/test/30_1_crop.mp4\n",
            "/content/drive/MyDrive/Colab Notebooks/Videos_MERL_Shopping_Dataset_Final/processed/test/31_2_crop\n",
            "reading:  True /content/drive/MyDrive/Colab Notebooks/Videos_MERL_Shopping_Dataset_Final/raw/test/31_2_crop.mp4\n",
            "/content/drive/MyDrive/Colab Notebooks/Videos_MERL_Shopping_Dataset_Final/processed/test/39_1_crop\n",
            "reading:  True /content/drive/MyDrive/Colab Notebooks/Videos_MERL_Shopping_Dataset_Final/raw/test/39_1_crop.mp4\n"
          ]
        }
      ],
      "source": [
        "test_input_path = videos_input_path+'/test'\n",
        "test_processed_path = videos_processed_path+'/test'\n",
        "for filename in os.listdir(test_input_path):\n",
        "  # print(filename)\n",
        "  # extract name of file\n",
        "  fldr = filename.split('.')[0]\n",
        "  # print(fldr)\n",
        "  # create folder to store frames of the video\n",
        "  out_path = test_processed_path+'/'+fldr\n",
        "  print(out_path)\n",
        "  try:\n",
        "    os.mkdir(out_path)\n",
        "    file_path = test_input_path+'/'+filename\n",
        "    vidcap = cv2.VideoCapture(file_path)\n",
        "    success,image = vidcap.read()\n",
        "    print('reading: ', success, file_path)\n",
        "    count = 0\n",
        "    while success:\n",
        "      cv2.imwrite(out_path+\"/frame%d.jpg\" % count, image)     # save frame as JPEG file      \n",
        "      success,image = vidcap.read()\n",
        "      # print('Read a new frame: ', success)\n",
        "      count += 1\n",
        "  except:\n",
        "    print('not done', filename)"
      ]
    },
    {
      "cell_type": "code",
      "execution_count": null,
      "metadata": {
        "colab": {
          "background_save": true,
          "base_uri": "https://localhost:8080/"
        },
        "id": "BrZ9BlO9L0tu",
        "outputId": "e559212e-6d30-4b25-8769-500b35cab8df"
      },
      "outputs": [
        {
          "name": "stdout",
          "output_type": "stream",
          "text": [
            "reading:  True /content/drive/MyDrive/Colab Notebooks/Videos_MERL_Shopping_Dataset_Final/raw/val/22_3_crop.mp4\n",
            "reading:  True /content/drive/MyDrive/Colab Notebooks/Videos_MERL_Shopping_Dataset_Final/raw/val/24_3_crop.mp4\n",
            "reading:  True /content/drive/MyDrive/Colab Notebooks/Videos_MERL_Shopping_Dataset_Final/raw/val/25_1_crop.mp4\n",
            "reading:  True /content/drive/MyDrive/Colab Notebooks/Videos_MERL_Shopping_Dataset_Final/raw/val/24_2_crop.mp4\n",
            "reading:  True /content/drive/MyDrive/Colab Notebooks/Videos_MERL_Shopping_Dataset_Final/raw/val/26_3_crop.mp4\n",
            "reading:  True /content/drive/MyDrive/Colab Notebooks/Videos_MERL_Shopping_Dataset_Final/raw/val/23_3_crop.mp4\n",
            "reading:  True /content/drive/MyDrive/Colab Notebooks/Videos_MERL_Shopping_Dataset_Final/raw/val/24_1_crop.mp4\n",
            "reading:  True /content/drive/MyDrive/Colab Notebooks/Videos_MERL_Shopping_Dataset_Final/raw/val/25_3_crop.mp4\n",
            "reading:  True /content/drive/MyDrive/Colab Notebooks/Videos_MERL_Shopping_Dataset_Final/raw/val/26_1_crop.mp4\n",
            "reading:  True /content/drive/MyDrive/Colab Notebooks/Videos_MERL_Shopping_Dataset_Final/raw/val/22_2_crop.mp4\n",
            "reading:  True /content/drive/MyDrive/Colab Notebooks/Videos_MERL_Shopping_Dataset_Final/raw/val/22_1_crop.mp4\n",
            "reading:  True /content/drive/MyDrive/Colab Notebooks/Videos_MERL_Shopping_Dataset_Final/raw/val/21_1_crop.mp4\n",
            "reading:  True /content/drive/MyDrive/Colab Notebooks/Videos_MERL_Shopping_Dataset_Final/raw/val/21_2_crop.mp4\n",
            "reading:  True /content/drive/MyDrive/Colab Notebooks/Videos_MERL_Shopping_Dataset_Final/raw/val/25_2_crop.mp4\n",
            "reading:  True /content/drive/MyDrive/Colab Notebooks/Videos_MERL_Shopping_Dataset_Final/raw/val/21_3_crop.mp4\n",
            "reading:  True /content/drive/MyDrive/Colab Notebooks/Videos_MERL_Shopping_Dataset_Final/raw/val/23_1_crop.mp4\n",
            "reading:  True /content/drive/MyDrive/Colab Notebooks/Videos_MERL_Shopping_Dataset_Final/raw/val/26_2_crop.mp4\n",
            "reading:  True /content/drive/MyDrive/Colab Notebooks/Videos_MERL_Shopping_Dataset_Final/raw/val/23_2_crop.mp4\n"
          ]
        }
      ],
      "source": [
        "val_input_path = videos_input_path+'/val'\n",
        "val_processed_path = videos_processed_path+'/val'\n",
        "for filename in os.listdir(val_input_path):\n",
        "  # print(filename)\n",
        "  # extract name of file\n",
        "  fldr = filename.split('.')[0]\n",
        "  # print(fldr)\n",
        "  # create folder to store frames of the video\n",
        "  out_path = val_processed_path+'/'+fldr\n",
        "  os.mkdir(out_path)\n",
        "  file_path = val_input_path+'/'+filename\n",
        "  vidcap = cv2.VideoCapture(file_path)\n",
        "  success,image = vidcap.read()\n",
        "  print('reading: ', success, file_path)\n",
        "  count = 0\n",
        "  while success:\n",
        "    cv2.imwrite(out_path+\"/frame%d.jpg\" % count, image)     # save frame as JPEG file      \n",
        "    success,image = vidcap.read()\n",
        "    # print('Read a new frame: ', success)\n",
        "    count += 1"
      ]
    }
  ],
  "metadata": {
    "colab": {
      "collapsed_sections": [],
      "name": "video_split.ipynb",
      "provenance": [],
      "mount_file_id": "1Mrubii-lU5j8FhaIgtV7htyQB-oHxnrm",
      "authorship_tag": "ABX9TyPUuWSU7NgTDowfVgLV1bOU",
      "include_colab_link": true
    },
    "kernelspec": {
      "display_name": "Python 3",
      "name": "python3"
    },
    "language_info": {
      "name": "python"
    }
  },
  "nbformat": 4,
  "nbformat_minor": 0
}